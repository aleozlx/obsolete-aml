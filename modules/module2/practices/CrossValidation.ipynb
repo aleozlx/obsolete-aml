{
 "cells": [
  {
   "cell_type": "markdown",
   "metadata": {},
   "source": [
    "# Module 2: Cross Validation - Practice\n",
    "\n",
    "In this practice you will create a **20-fold cross validation** to a **Gaussian Naive Bayes model**, which attempts to fit the **titanic** dataset.\n",
    "\n",
    "+ Look for **placeholders** in the code and fill in the blanks.\n",
    "+ Expect requirements in **bold** font when provided.\n",
    "+ Presentation of printouts are not strict as long as they are readable and equivalent.\n"
   ]
  },
  {
   "cell_type": "code",
   "execution_count": 13,
   "metadata": {
    "collapsed": true
   },
   "outputs": [],
   "source": [
    "import os, sys\n",
    "from collections import Counter\n",
    "import numpy as np\n",
    "import pandas as pd\n",
    "import sklearn.model_selection\n",
    "from sklearn.naive_bayes import GaussianNB\n",
    "\n",
    "np.random.seed(18937) # please ignore and leave this line alone"
   ]
  },
  {
   "cell_type": "markdown",
   "metadata": {},
   "source": [
    "## Load Dataset\n",
    "\n",
    "Load dataset from files into multi-dimensional array."
   ]
  },
  {
   "cell_type": "code",
   "execution_count": 14,
   "metadata": {},
   "outputs": [
    {
     "name": "stdout",
     "output_type": "stream",
     "text": [
      "<class 'pandas.core.frame.DataFrame'>\n",
      "RangeIndex: 890 entries, 0 to 889\n",
      "Data columns (total 8 columns):\n",
      "pclass      890 non-null int64\n",
      "sex         890 non-null int64\n",
      "age         890 non-null float64\n",
      "sibsp       890 non-null int64\n",
      "parch       890 non-null int64\n",
      "fare        890 non-null float64\n",
      "embarked    890 non-null int64\n",
      "survived    890 non-null int64\n",
      "dtypes: float64(2), int64(6)\n",
      "memory usage: 55.7 KB\n"
     ]
    }
   ],
   "source": [
    "# Dataset location\n",
    "DATASET = 'datasets/titanic.csv'\n",
    "assert os.path.exists(DATASET)\n",
    "\n",
    "# Load and shuffle\n",
    "dataset = pd.read_csv(DATASET).sample(frac = 1).reset_index(drop=True)\n",
    "dataset.info()"
   ]
  },
  {
   "cell_type": "markdown",
   "metadata": {},
   "source": [
    "## Part 1: Cross validation with sklearn\n",
    "\n",
    "Make 20-fold cross validation using cross_val_score() provided by sklearn."
   ]
  },
  {
   "cell_type": "code",
   "execution_count": 15,
   "metadata": {},
   "outputs": [
    {
     "data": {
      "text/plain": [
       "array([ 0.76086957,  0.60869565,  0.7826087 ,  0.8       ,  0.68888889,\n",
       "        0.75555556,  0.77777778,  0.84090909,  0.77272727,  0.77272727,\n",
       "        0.79545455,  0.77272727,  0.77272727,  0.79545455,  0.75      ,\n",
       "        0.72727273,  0.72727273,  0.79545455,  0.88636364,  0.77272727])"
      ]
     },
     "execution_count": 15,
     "metadata": {},
     "output_type": "execute_result"
    }
   ],
   "source": [
    "model = GaussianNB()\n",
    "\n",
    "X = np.array(dataset.iloc[:,:-1])\n",
    "y = np.array(dataset.survived)\n",
    "\n",
    "sklearn.model_selection.cross_val_score(model, X, y, cv=20) # <placeholder>"
   ]
  },
  {
   "cell_type": "markdown",
   "metadata": {},
   "source": [
    "## Part 2: Create cross validation manually"
   ]
  },
  {
   "cell_type": "code",
   "execution_count": 28,
   "metadata": {},
   "outputs": [
    {
     "name": "stdout",
     "output_type": "stream",
     "text": [
      "Cross validation:\n",
      "X_folds Counter({(44, 7): 10, (45, 7): 10}) y_folds Counter({(45,): 10, (44,): 10})\n",
      "\tscore[0] = 0.733333333333\n",
      "\tscore[1] = 0.688888888889\n",
      "\tscore[2] = 0.711111111111\n",
      "\tscore[3] = 0.822222222222\n",
      "\tscore[4] = 0.688888888889\n",
      "\tscore[5] = 0.755555555556\n",
      "\tscore[6] = 0.755555555556\n",
      "\tscore[7] = 0.844444444444\n",
      "\tscore[8] = 0.777777777778\n",
      "\tscore[9] = 0.777777777778\n",
      "\tscore[10] = 0.795454545455\n",
      "\tscore[11] = 0.772727272727\n",
      "\tscore[12] = 0.727272727273\n",
      "\tscore[13] = 0.772727272727\n",
      "\tscore[14] = 0.840909090909\n",
      "\tscore[15] = 0.681818181818\n",
      "\tscore[16] = 0.659090909091\n",
      "\tscore[17] = 0.863636363636\n",
      "\tscore[18] = 0.886363636364\n",
      "\tscore[19] = 0.772727272727\n"
     ]
    }
   ],
   "source": [
    "def cross_val_score(model, X, y, cv):\n",
    "    X_folds = np.array_split(X, cv)\n",
    "    y_folds = np.array_split(y, cv)\n",
    "    print('X_folds', Counter([i.shape for i in X_folds]), 'y_folds', Counter([i.shape for i in y_folds]))\n",
    "    \n",
    "    for i in range(cv):\n",
    "        X_train = np.concatenate([X_folds[j] for j in range(cv) if j!=i])\n",
    "        X_test = X_folds[i]\n",
    "        y_train = np.concatenate([y_folds[j] for j in range(cv) if j!=i])\n",
    "        y_test = y_folds[i]\n",
    "        model.fit(X_train, y_train)\n",
    "        yield model.score(X_test, y_test)\n",
    "\n",
    "print(\"Cross validation:\")\n",
    "for i, score in enumerate(cross_val_score(model, X, y, cv=20)):\n",
    "    print(('\\tscore[%d] ='%i), score)"
   ]
  },
  {
   "cell_type": "markdown",
   "metadata": {
    "collapsed": true
   },
   "source": [
    "# Save your notebook!"
   ]
  }
 ],
 "metadata": {
  "kernelspec": {
   "display_name": "Python 3",
   "language": "python",
   "name": "python3"
  },
  "language_info": {
   "codemirror_mode": {
    "name": "ipython",
    "version": 3
   },
   "file_extension": ".py",
   "mimetype": "text/x-python",
   "name": "python",
   "nbconvert_exporter": "python",
   "pygments_lexer": "ipython3",
   "version": "3.4.5"
  }
 },
 "nbformat": 4,
 "nbformat_minor": 2
}
