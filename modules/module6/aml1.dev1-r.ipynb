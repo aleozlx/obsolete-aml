{
 "cells": [
  {
   "cell_type": "code",
   "execution_count": null,
   "metadata": {
    "collapsed": true
   },
   "outputs": [],
   "source": [
    "# ref: https://www.svm-tutorial.com/2014/10/support-vector-regression-r/"
   ]
  },
  {
   "cell_type": "code",
   "execution_count": 1,
   "metadata": {
    "collapsed": false
   },
   "outputs": [
    {
     "data": {
      "text/html": [
       "<ol class=list-inline>\n",
       "\t<li>'creditcard.csv'</li>\n",
       "\t<li>'creditcardfraud.zip'</li>\n",
       "</ol>\n"
      ],
      "text/latex": [
       "\\begin{enumerate*}\n",
       "\\item 'creditcard.csv'\n",
       "\\item 'creditcardfraud.zip'\n",
       "\\end{enumerate*}\n"
      ],
      "text/markdown": [
       "1. 'creditcard.csv'\n",
       "2. 'creditcardfraud.zip'\n",
       "\n",
       "\n"
      ],
      "text/plain": [
       "[1] \"creditcard.csv\"      \"creditcardfraud.zip\""
      ]
     },
     "metadata": {},
     "output_type": "display_data"
    }
   ],
   "source": [
    "system(\"ls datasets\", intern=TRUE)"
   ]
  },
  {
   "cell_type": "code",
   "execution_count": 2,
   "metadata": {
    "collapsed": false
   },
   "outputs": [
    {
     "name": "stderr",
     "output_type": "stream",
     "text": [
      "randomForest 4.6-12\n",
      "Type rfNews() to see new features/changes/bug fixes.\n",
      "Loading required package: lattice\n",
      "Loading required package: ggplot2\n",
      "\n",
      "Attaching package: ‘ggplot2’\n",
      "\n",
      "The following object is masked from ‘package:randomForest’:\n",
      "\n",
      "    margin\n",
      "\n"
     ]
    }
   ],
   "source": [
    "library(randomForest)\n",
    "library(e1071)\n",
    "library(rpart)\n",
    "library(rpart.plot)\n",
    "library(caTools)\n",
    "library(readr)\n",
    "library(caret)"
   ]
  },
  {
   "cell_type": "code",
   "execution_count": 3,
   "metadata": {
    "collapsed": false
   },
   "outputs": [
    {
     "name": "stderr",
     "output_type": "stream",
     "text": [
      "Parsed with column specification:\n",
      "cols(\n",
      "  .default = col_double(),\n",
      "  Time = col_integer(),\n",
      "  Class = col_integer()\n",
      ")\n",
      "See spec(...) for full column specifications.\n",
      "Warning message:\n",
      "“1 parsing failure.\n",
      "   row  col               expected actual\n",
      "153759 Time no trailing characters   e+05\n",
      "”"
     ]
    }
   ],
   "source": [
    "card <- read_csv(\"datasets/creditcard.csv\")"
   ]
  },
  {
   "cell_type": "code",
   "execution_count": 7,
   "metadata": {
    "collapsed": false
   },
   "outputs": [],
   "source": [
    "# str(card)\n",
    "card$Class <- factor(card$Class)"
   ]
  },
  {
   "cell_type": "code",
   "execution_count": null,
   "metadata": {
    "collapsed": false
   },
   "outputs": [],
   "source": [
    "set.seed(1)\n",
    "split <- sample.split(card$Class, SplitRatio = 0.7)\n",
    "train <- subset(card, split == T)\n",
    "cv <- subset(card, split == F)\n",
    "\n",
    "# check output Class distributiion\n",
    "table(cv$Class)"
   ]
  },
  {
   "cell_type": "code",
   "execution_count": null,
   "metadata": {
    "collapsed": false
   },
   "outputs": [],
   "source": [
    "# logistic regression\n",
    "glm.model <- glm(Class ~ ., data = train, family = \"binomial\")\n",
    "glm.predict <- predict(glm.model, cv, type = \"response\")\n",
    "table(cv$Class, glm.predict > 0.5)"
   ]
  },
  {
   "cell_type": "code",
   "execution_count": null,
   "metadata": {
    "collapsed": false
   },
   "outputs": [],
   "source": [
    "# decision tree model\n",
    "\n",
    "tree.model <- rpart(Class ~ ., data = train, method = \"class\", minbucket = 20)\n",
    "prp(tree.model) \n",
    "tree.predict <- predict(tree.model, cv, type = \"class\")\n",
    "confusionMatrix(cv$Class, tree.predict)"
   ]
  },
  {
   "cell_type": "code",
   "execution_count": null,
   "metadata": {
    "collapsed": false
   },
   "outputs": [],
   "source": [
    "# Now we only keep 10000 rows of data with class = 0\n",
    "data.class.0 <- subset(card, card$Class == 0)\n",
    "data.class.1 <- subset(card, card$Class == 1)\n",
    "nrow(data.class.0)\n",
    "nrow(data.class.1)\n",
    "data.class.0 <- data.class.0[1:10000, ]\n",
    "nrow(data.class.0)\n",
    "data <- rbind(data.class.0, data.class.1)\n",
    "nrow(data)"
   ]
  },
  {
   "cell_type": "code",
   "execution_count": null,
   "metadata": {
    "collapsed": false
   },
   "outputs": [],
   "source": [
    "# split data 70:30\n",
    "set.seed(1)\n",
    "split <- sample.split(data$Class, SplitRatio = 0.7)\n",
    "train <- subset(data, split == T)\n",
    "cv <- subset(data, split == F)\n",
    "\n",
    "table(cv$Class)"
   ]
  },
  {
   "cell_type": "code",
   "execution_count": null,
   "metadata": {
    "collapsed": false
   },
   "outputs": [],
   "source": [
    "# SVM model\n",
    "svm.model <- svm(Class ~ ., data = train, kernel = \"radial\", cost = 1, gamma = 0.1)\n",
    "svm.predict <- predict(svm.model, cv)\n",
    "confusionMatrix(cv$Class, svm.predict)"
   ]
  },
  {
   "cell_type": "code",
   "execution_count": null,
   "metadata": {
    "collapsed": false
   },
   "outputs": [],
   "source": [
    "# Decision Tree Model\n",
    "tree.model <- rpart(Class ~ ., data = train, method = \"class\", minbucket = 20)\n",
    "prp(tree.model) \n",
    "tree.predict <- predict(tree.model, cv, type = \"class\")\n",
    "confusionMatrix(cv$Class, tree.predict)"
   ]
  },
  {
   "cell_type": "code",
   "execution_count": null,
   "metadata": {
    "collapsed": false
   },
   "outputs": [],
   "source": [
    "# random forest model\n",
    "set.seed(10)\n",
    "rf.model <- randomForest(Class ~ ., data = train,\n",
    "                         ntree = 2000, nodesize = 20)\n",
    "\n",
    "rf.predict <- predict(rf.model, cv)\n",
    "confusionMatrix(cv$Class, rf.predict)\n",
    "varImpPlot(rf.model)"
   ]
  },
  {
   "cell_type": "code",
   "execution_count": null,
   "metadata": {
    "collapsed": true
   },
   "outputs": [],
   "source": []
  }
 ],
 "metadata": {
  "kernelspec": {
   "display_name": "R",
   "language": "R",
   "name": "ir"
  },
  "language_info": {
   "codemirror_mode": "r",
   "file_extension": ".r",
   "mimetype": "text/x-r-source",
   "name": "R",
   "pygments_lexer": "r",
   "version": "3.3.2"
  }
 },
 "nbformat": 4,
 "nbformat_minor": 2
}
